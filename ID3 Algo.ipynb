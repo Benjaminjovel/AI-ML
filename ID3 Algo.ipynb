{
 "cells": [
  {
   "cell_type": "code",
   "execution_count": null,
   "id": "2ea74602",
   "metadata": {},
   "outputs": [],
   "source": [
    "import csv\n",
    "import math\n",
    "def major_class(data, attributes, target):\n",
    "    freq={}\n",
    "    index = attributes.index(target)\n",
    "    for t in data:\n",
    "        if t[index] in freq:\n",
    "            freq[t[index]]+=1\n",
    "        else:\n",
    "            freq[t[index]]=1\n",
    "        m=0\n",
    "        major=\"\"\n",
    "        for key in freq.keys():\n",
    "            if freq[key]>m:\n",
    "                m=freq[key]\n",
    "                major=key\n",
    "        return major\n",
    "def entropy(attributes, data, target Attr):\n",
    "    freq={}\n",
    "    data_entropy = 0.0\n",
    "    i=0\n",
    "    \n",
    "    for entry in attributes:\n",
    "        if target Attr == entry:\n",
    "            break\n",
    "        i+=1\n",
    "    for entry in data:\n",
    "        if entry[i]== \"Play Tennis\":\n",
    "            pass\n",
    "        else:\n",
    "            if entry[i] in freq:\n",
    "                freq[entry[i]]+=1.0\n",
    "            else:\n",
    "                freq[entry[i]]=1.0\n",
    "    for f in freq.values():\n",
    "        data_entropy t = (-f/len(data))*math.log(f/len(data), 2)\n",
    "        return data_entropy\n",
    "    \n",
    "def info_gain(data, attributes, target Attr, attr):\n",
    "    freq = {}\n",
    "    subset_entropy = 0.0\n",
    "    i=attributes.index(attr)\n",
    "    for entry in data:\n",
    "        if entry[i] in freq:\n",
    "            freq[entry[i]]+ = 1.0\n",
    "            else:\n",
    "                freq[entry[i]] = 1\n",
    "        for val in freq.keys():\n",
    "            p=sum(freq.values)\n",
    "    "
   ]
  }
 ],
 "metadata": {
  "kernelspec": {
   "display_name": "Python 3 (ipykernel)",
   "language": "python",
   "name": "python3"
  },
  "language_info": {
   "codemirror_mode": {
    "name": "ipython",
    "version": 3
   },
   "file_extension": ".py",
   "mimetype": "text/x-python",
   "name": "python",
   "nbconvert_exporter": "python",
   "pygments_lexer": "ipython3",
   "version": "3.9.7"
  }
 },
 "nbformat": 4,
 "nbformat_minor": 5
}
